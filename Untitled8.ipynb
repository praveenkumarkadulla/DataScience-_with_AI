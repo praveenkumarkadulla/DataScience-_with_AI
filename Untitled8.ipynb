{
 "cells": [
  {
   "cell_type": "code",
   "execution_count": 1,
   "id": "8bbf1e68-3afa-49b2-bb57-907187773b21",
   "metadata": {},
   "outputs": [
    {
     "data": {
      "text/plain": [
       "9"
      ]
     },
     "execution_count": 1,
     "metadata": {},
     "output_type": "execute_result"
    }
   ],
   "source": [
    "9"
   ]
  },
  {
   "cell_type": "code",
   "execution_count": 3,
   "id": "3d339a65-3c77-4b86-b048-2d830eb39b78",
   "metadata": {},
   "outputs": [
    {
     "data": {
      "text/plain": [
       "18"
      ]
     },
     "execution_count": 3,
     "metadata": {},
     "output_type": "execute_result"
    }
   ],
   "source": [
    "9+9"
   ]
  },
  {
   "cell_type": "code",
   "execution_count": 5,
   "id": "cc911d81-79a8-4923-ba36-67291595ea7a",
   "metadata": {},
   "outputs": [
    {
     "data": {
      "text/plain": [
       "-15"
      ]
     },
     "execution_count": 5,
     "metadata": {},
     "output_type": "execute_result"
    }
   ],
   "source": [
    "9+9 -(10*3) -3"
   ]
  },
  {
   "cell_type": "code",
   "execution_count": 9,
   "id": "d538ceef-e051-4db9-af47-6c9459c3c36e",
   "metadata": {},
   "outputs": [
    {
     "data": {
      "text/plain": [
       "-15"
      ]
     },
     "execution_count": 9,
     "metadata": {},
     "output_type": "execute_result"
    }
   ],
   "source": [
    "9+9 -10*3 -3"
   ]
  },
  {
   "cell_type": "code",
   "execution_count": 12,
   "id": "f0fc4208-d583-48a1-900a-296fff84fb51",
   "metadata": {},
   "outputs": [
    {
     "data": {
      "text/plain": [
       "14"
      ]
     },
     "execution_count": 12,
     "metadata": {},
     "output_type": "execute_result"
    }
   ],
   "source": [
    "9+9-(10-3)+3"
   ]
  },
  {
   "cell_type": "code",
   "execution_count": 14,
   "id": "be494b7a-2387-4974-98ab-9c7d496b8da6",
   "metadata": {},
   "outputs": [
    {
     "data": {
      "text/plain": [
       "8"
      ]
     },
     "execution_count": 14,
     "metadata": {},
     "output_type": "execute_result"
    }
   ],
   "source": [
    "9+9-10-3+3"
   ]
  },
  {
   "cell_type": "markdown",
   "id": "b1a31f87-70e5-4d1d-a8b7-9d36c4ce7149",
   "metadata": {},
   "source": [
    "# 9,9,10,3,3==operand\n",
    "+,-==operator"
   ]
  },
  {
   "cell_type": "markdown",
   "id": "2a110b33-ab19-4fb6-9df9-30aff44d7863",
   "metadata": {},
   "source": [
    " #  numbernare called as operand\n",
    "#   +,- are called operator  "
   ]
  },
  {
   "cell_type": "code",
   "execution_count": null,
   "id": "41ceaa05-36e7-46f4-85ff-6108b3eb4c9d",
   "metadata": {},
   "outputs": [],
   "source": []
  },
  {
   "cell_type": "markdown",
   "id": "4bdd4077-3f8a-4f9e-978f-8e8216661c16",
   "metadata": {},
   "source": [
    " # ARITHMETIC OPERATOR"
   ]
  },
  {
   "cell_type": "markdown",
   "id": "1ff96a2f-bea2-43e8-9d0a-0d13e5a24af4",
   "metadata": {},
   "source": [
    "1 - ARITHMETIC OPERATOR (+,-,/,%,%%,**,^)\n",
    "2 - ASSIGNMEN OPERATOR(=)\n",
    "3 - RELATIONAL OPERATOR\n",
    "4 - LOGICAL OPERATOR\n",
    "5 - UNARY OPERATOR\n"
   ]
  },
  {
   "cell_type": "code",
   "execution_count": 22,
   "id": "91624f35-7513-4f69-8e31-00b2476e7755",
   "metadata": {},
   "outputs": [
    {
     "data": {
      "text/plain": [
       "15"
      ]
     },
     "execution_count": 22,
     "metadata": {},
     "output_type": "execute_result"
    }
   ],
   "source": [
    "10+5"
   ]
  },
  {
   "cell_type": "code",
   "execution_count": 53,
   "id": "56eb5765-f9b1-4683-80d0-3de7c7768c1f",
   "metadata": {},
   "outputs": [
    {
     "data": {
      "text/plain": [
       "5"
      ]
     },
     "execution_count": 53,
     "metadata": {},
     "output_type": "execute_result"
    }
   ],
   "source": [
    "10-5"
   ]
  },
  {
   "cell_type": "code",
   "execution_count": 30,
   "id": "11d21d79-0601-4043-9618-8d248389d32a",
   "metadata": {},
   "outputs": [
    {
     "data": {
      "text/plain": [
       "50"
      ]
     },
     "execution_count": 30,
     "metadata": {},
     "output_type": "execute_result"
    }
   ],
   "source": [
    "10*5"
   ]
  },
  {
   "cell_type": "code",
   "execution_count": 32,
   "id": "e4b7436f-a556-446c-a045-4eb9f615f232",
   "metadata": {},
   "outputs": [
    {
     "data": {
      "text/plain": [
       "20"
      ]
     },
     "execution_count": 32,
     "metadata": {},
     "output_type": "execute_result"
    }
   ],
   "source": [
    "10*2    # multiplication "
   ]
  },
  {
   "cell_type": "code",
   "execution_count": 34,
   "id": "279f5904-cd23-4067-b734-d86ba667f56a",
   "metadata": {},
   "outputs": [
    {
     "data": {
      "text/plain": [
       "100"
      ]
     },
     "execution_count": 34,
     "metadata": {},
     "output_type": "execute_result"
    }
   ],
   "source": [
    "10**2 power"
   ]
  },
  {
   "cell_type": "code",
   "execution_count": 36,
   "id": "0567216d-c349-4ddd-aaa3-ec9a83a68022",
   "metadata": {},
   "outputs": [
    {
     "ename": "SyntaxError",
     "evalue": "invalid syntax (1867396925.py, line 1)",
     "output_type": "error",
     "traceback": [
      "\u001b[1;36m  Cell \u001b[1;32mIn[36], line 1\u001b[1;36m\u001b[0m\n\u001b[1;33m    10***2\u001b[0m\n\u001b[1;37m        ^\u001b[0m\n\u001b[1;31mSyntaxError\u001b[0m\u001b[1;31m:\u001b[0m invalid syntax\n"
     ]
    }
   ],
   "source": [
    "10***2"
   ]
  },
  {
   "cell_type": "code",
   "execution_count": 38,
   "id": "f9919f41-393d-4de3-a924-b21c13c2e088",
   "metadata": {},
   "outputs": [
    {
     "data": {
      "text/plain": [
       "2.0"
      ]
     },
     "execution_count": 38,
     "metadata": {},
     "output_type": "execute_result"
    }
   ],
   "source": [
    "10/5    # float division"
   ]
  },
  {
   "cell_type": "code",
   "execution_count": 40,
   "id": "6b2b6507-4ca0-4b3e-a834-8d94f9f716eb",
   "metadata": {},
   "outputs": [
    {
     "data": {
      "text/plain": [
       "2"
      ]
     },
     "execution_count": 40,
     "metadata": {},
     "output_type": "execute_result"
    }
   ],
   "source": [
    "10//5    # int division"
   ]
  },
  {
   "cell_type": "code",
   "execution_count": 42,
   "id": "d53c4f7f-cb22-4821-a49b-9b74e7eb8ced",
   "metadata": {},
   "outputs": [
    {
     "data": {
      "text/plain": [
       "0"
      ]
     },
     "execution_count": 42,
     "metadata": {},
     "output_type": "execute_result"
    }
   ],
   "source": [
    "10%5"
   ]
  },
  {
   "cell_type": "code",
   "execution_count": 44,
   "id": "9d6d050c-9268-4b27-b363-8aba172efb08",
   "metadata": {},
   "outputs": [
    {
     "data": {
      "text/plain": [
       "3"
      ]
     },
     "execution_count": 44,
     "metadata": {},
     "output_type": "execute_result"
    }
   ],
   "source": [
    "15%6"
   ]
  },
  {
   "cell_type": "code",
   "execution_count": 46,
   "id": "2efa4aac-1f76-4e04-97d0-eafa441fb602",
   "metadata": {},
   "outputs": [
    {
     "data": {
      "text/plain": [
       "2.5"
      ]
     },
     "execution_count": 46,
     "metadata": {},
     "output_type": "execute_result"
    }
   ],
   "source": [
    "15/6"
   ]
  },
  {
   "cell_type": "code",
   "execution_count": 48,
   "id": "d4b50d2e-5400-41a1-8b7a-b5d49f00dc8b",
   "metadata": {},
   "outputs": [
    {
     "data": {
      "text/plain": [
       "3"
      ]
     },
     "execution_count": 48,
     "metadata": {},
     "output_type": "execute_result"
    }
   ],
   "source": [
    "15//5"
   ]
  },
  {
   "cell_type": "markdown",
   "id": "bf27653d-6834-4d6a-a609-20943eadd4ab",
   "metadata": {},
   "source": [
    " # assignment operator"
   ]
  },
  {
   "cell_type": "code",
   "execution_count": 94,
   "id": "4aeca231-f344-42bf-99b8-3fa0c22fd0c4",
   "metadata": {},
   "outputs": [
    {
     "data": {
      "text/plain": [
       "10"
      ]
     },
     "execution_count": 94,
     "metadata": {},
     "output_type": "execute_result"
    }
   ],
   "source": [
    "x=10\n",
    "x"
   ]
  },
  {
   "cell_type": "code",
   "execution_count": 96,
   "id": "52d44091-7068-488f-8612-8143783f6ae9",
   "metadata": {},
   "outputs": [
    {
     "data": {
      "text/plain": [
       "12"
      ]
     },
     "execution_count": 96,
     "metadata": {},
     "output_type": "execute_result"
    }
   ],
   "source": [
    "x+2"
   ]
  },
  {
   "cell_type": "code",
   "execution_count": 98,
   "id": "f8d9d643-eee6-4afc-bca0-d493547b2d8e",
   "metadata": {},
   "outputs": [
    {
     "data": {
      "text/plain": [
       "12"
      ]
     },
     "execution_count": 98,
     "metadata": {},
     "output_type": "execute_result"
    }
   ],
   "source": [
    "x+=2\n",
    "x"
   ]
  },
  {
   "cell_type": "code",
   "execution_count": 100,
   "id": "1117a664-cc93-4094-a0ed-800b1ac75d73",
   "metadata": {},
   "outputs": [
    {
     "data": {
      "text/plain": [
       "14"
      ]
     },
     "execution_count": 100,
     "metadata": {},
     "output_type": "execute_result"
    }
   ],
   "source": [
    "x+=2\n",
    "x"
   ]
  },
  {
   "cell_type": "code",
   "execution_count": 102,
   "id": "a43f56cc-f3ce-45c2-97d7-fcc9e8336110",
   "metadata": {},
   "outputs": [
    {
     "data": {
      "text/plain": [
       "16"
      ]
     },
     "execution_count": 102,
     "metadata": {},
     "output_type": "execute_result"
    }
   ],
   "source": [
    "x+=2\n",
    "x"
   ]
  },
  {
   "cell_type": "code",
   "execution_count": 104,
   "id": "ced5f6a2-0600-4c5c-b26f-5a478fafaab7",
   "metadata": {},
   "outputs": [
    {
     "data": {
      "text/plain": [
       "18"
      ]
     },
     "execution_count": 104,
     "metadata": {},
     "output_type": "execute_result"
    }
   ],
   "source": [
    "x+=2\n",
    "x"
   ]
  },
  {
   "cell_type": "code",
   "execution_count": 106,
   "id": "cc906bb5-5a6c-4aec-91a3-470a809a45e6",
   "metadata": {},
   "outputs": [
    {
     "data": {
      "text/plain": [
       "20"
      ]
     },
     "execution_count": 106,
     "metadata": {},
     "output_type": "execute_result"
    }
   ],
   "source": [
    "x+=2\n",
    "x"
   ]
  },
  {
   "cell_type": "code",
   "execution_count": 110,
   "id": "45799d7c-03dc-47a1-9e26-48b916c0abb1",
   "metadata": {},
   "outputs": [
    {
     "data": {
      "text/plain": [
       "18"
      ]
     },
     "execution_count": 110,
     "metadata": {},
     "output_type": "execute_result"
    }
   ],
   "source": [
    "x-=2\n",
    "x"
   ]
  },
  {
   "cell_type": "code",
   "execution_count": 112,
   "id": "a0f42f7d-2871-459c-9c9b-7ee71ca699bb",
   "metadata": {},
   "outputs": [
    {
     "data": {
      "text/plain": [
       "16"
      ]
     },
     "execution_count": 112,
     "metadata": {},
     "output_type": "execute_result"
    }
   ],
   "source": [
    "x-=2\n",
    "x"
   ]
  },
  {
   "cell_type": "code",
   "execution_count": 114,
   "id": "1e7c913b-3900-412e-b068-215e4fa04b4b",
   "metadata": {},
   "outputs": [
    {
     "data": {
      "text/plain": [
       "14"
      ]
     },
     "execution_count": 114,
     "metadata": {},
     "output_type": "execute_result"
    }
   ],
   "source": [
    "x-=2\n",
    "x"
   ]
  },
  {
   "cell_type": "code",
   "execution_count": 116,
   "id": "c3cbc389-c36b-48e9-b746-4f56041f5a17",
   "metadata": {},
   "outputs": [
    {
     "data": {
      "text/plain": [
       "12"
      ]
     },
     "execution_count": 116,
     "metadata": {},
     "output_type": "execute_result"
    }
   ],
   "source": [
    "x-=2\n",
    "x"
   ]
  },
  {
   "cell_type": "code",
   "execution_count": 118,
   "id": "55a9c3c9-3a7a-479c-bbc5-e55abcc6cc6b",
   "metadata": {},
   "outputs": [
    {
     "data": {
      "text/plain": [
       "12"
      ]
     },
     "execution_count": 118,
     "metadata": {},
     "output_type": "execute_result"
    }
   ],
   "source": [
    "x"
   ]
  },
  {
   "cell_type": "code",
   "execution_count": 120,
   "id": "40e6765f-7e4c-46b5-8d4c-16034374d683",
   "metadata": {},
   "outputs": [
    {
     "data": {
      "text/plain": [
       "24"
      ]
     },
     "execution_count": 120,
     "metadata": {},
     "output_type": "execute_result"
    }
   ],
   "source": [
    "x*=2\n",
    "x"
   ]
  },
  {
   "cell_type": "code",
   "execution_count": 122,
   "id": "75d9d636-1dca-45d4-b457-8838630b8277",
   "metadata": {},
   "outputs": [
    {
     "data": {
      "text/plain": [
       "48"
      ]
     },
     "execution_count": 122,
     "metadata": {},
     "output_type": "execute_result"
    }
   ],
   "source": [
    "x*=2\n",
    "x"
   ]
  },
  {
   "cell_type": "code",
   "execution_count": 124,
   "id": "1cc8c948-e826-4f10-aa61-86b0929d75ab",
   "metadata": {},
   "outputs": [
    {
     "data": {
      "text/plain": [
       "24.0"
      ]
     },
     "execution_count": 124,
     "metadata": {},
     "output_type": "execute_result"
    }
   ],
   "source": [
    "x/=2\n",
    "x"
   ]
  },
  {
   "cell_type": "code",
   "execution_count": 128,
   "id": "aea61075-ecd5-4d37-b2b3-8eb539e2f164",
   "metadata": {},
   "outputs": [
    {
     "data": {
      "text/plain": [
       "6.0"
      ]
     },
     "execution_count": 128,
     "metadata": {},
     "output_type": "execute_result"
    }
   ],
   "source": [
    "x/=2\n",
    "x"
   ]
  },
  {
   "cell_type": "markdown",
   "id": "ef41bc6a-a7cc-4790-8500-67ddf2916aa2",
   "metadata": {},
   "source": [
    " # unary operator "
   ]
  },
  {
   "cell_type": "code",
   "execution_count": 131,
   "id": "32e53f08-1e28-4ec5-97e0-e84c54c91d83",
   "metadata": {},
   "outputs": [
    {
     "data": {
      "text/plain": [
       "7"
      ]
     },
     "execution_count": 131,
     "metadata": {},
     "output_type": "execute_result"
    }
   ],
   "source": [
    "n=7\n",
    "n"
   ]
  },
  {
   "cell_type": "code",
   "execution_count": 133,
   "id": "234d147d-adc2-4799-ab07-b9a69ae00a66",
   "metadata": {},
   "outputs": [
    {
     "data": {
      "text/plain": [
       "-7"
      ]
     },
     "execution_count": 133,
     "metadata": {},
     "output_type": "execute_result"
    }
   ],
   "source": [
    "m=-n\n",
    "m"
   ]
  },
  {
   "cell_type": "code",
   "execution_count": null,
   "id": "5bd059ab-ab57-4569-b53f-bde2552bec6e",
   "metadata": {},
   "outputs": [],
   "source": []
  },
  {
   "cell_type": "code",
   "execution_count": null,
   "id": "dcc3004a-81d0-44af-9b52-7ec7023f6547",
   "metadata": {},
   "outputs": [],
   "source": []
  },
  {
   "cell_type": "code",
   "execution_count": null,
   "id": "5c09d5f5-a544-4059-932e-4b6c2a53b75f",
   "metadata": {},
   "outputs": [],
   "source": []
  }
 ],
 "metadata": {
  "kernelspec": {
   "display_name": "Python [conda env:base] *",
   "language": "python",
   "name": "conda-base-py"
  },
  "language_info": {
   "codemirror_mode": {
    "name": "ipython",
    "version": 3
   },
   "file_extension": ".py",
   "mimetype": "text/x-python",
   "name": "python",
   "nbconvert_exporter": "python",
   "pygments_lexer": "ipython3",
   "version": "3.12.7"
  }
 },
 "nbformat": 4,
 "nbformat_minor": 5
}
